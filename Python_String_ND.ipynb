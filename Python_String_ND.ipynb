{
  "nbformat": 4,
  "nbformat_minor": 0,
  "metadata": {
    "colab": {
      "provenance": [],
      "authorship_tag": "ABX9TyM+rOb1Rg1VTJgW998fCAmu",
      "include_colab_link": true
    },
    "kernelspec": {
      "name": "python3",
      "display_name": "Python 3"
    },
    "language_info": {
      "name": "python"
    }
  },
  "cells": [
    {
      "cell_type": "markdown",
      "metadata": {
        "id": "view-in-github",
        "colab_type": "text"
      },
      "source": [
        "<a href=\"https://colab.research.google.com/github/pawaravinash0007/Python-Tutorials/blob/main/Python_String_ND.ipynb\" target=\"_parent\"><img src=\"https://colab.research.google.com/assets/colab-badge.svg\" alt=\"Open In Colab\"/></a>"
      ]
    },
    {
      "cell_type": "markdown",
      "source": [
        "* Rule for writing string in python\n",
        "1.   use single quotation ' string '\n",
        "2.   use double quotation  \" string \"\n",
        "3.   use triple quotation  \"\"\"  string \"\"\"\n",
        "4.   use escape character like \\n,\\t in python string\n",
        "\n"
      ],
      "metadata": {
        "id": "DCB11XdimBVP"
      }
    },
    {
      "cell_type": "code",
      "source": [
        "print('Hi,My name is Avinash')\n",
        "print(\"Hi,My name is Avinash\")\n",
        "print(\"\"\"Hi,My name is Avinash \"\"\")\n",
        "print('''Hi,My name is Avinash ''')\n"
      ],
      "metadata": {
        "colab": {
          "base_uri": "https://localhost:8080/"
        },
        "id": "XXRq9riDmiWz",
        "outputId": "acc0545b-8027-4485-dd90-7e138078e5c1"
      },
      "execution_count": 5,
      "outputs": [
        {
          "output_type": "stream",
          "name": "stdout",
          "text": [
            "Hi,My name is Avinash\n",
            "Hi,My name is Avinash\n",
            "Hi,My name is Avinash \n",
            "Hi,My name is Avinash \n"
          ]
        }
      ]
    },
    {
      "cell_type": "code",
      "source": [
        "print(\"Hi my name is \\nAvinash\") # \\n used for next line "
      ],
      "metadata": {
        "colab": {
          "base_uri": "https://localhost:8080/"
        },
        "id": "Ng0LPIQdoA0T",
        "outputId": "3397dbd5-566b-4f57-ab34-c2b1aaa67c6b"
      },
      "execution_count": 7,
      "outputs": [
        {
          "output_type": "stream",
          "name": "stdout",
          "text": [
            "Hi my name is \n",
            "Avinash\n"
          ]
        }
      ]
    },
    {
      "cell_type": "code",
      "source": [
        "print(\"Hi my name is \\tAvinash\")  # \\t used for tab to add space "
      ],
      "metadata": {
        "colab": {
          "base_uri": "https://localhost:8080/"
        },
        "id": "JQ5U-rtRodTj",
        "outputId": "468636da-04f0-4faf-bdd9-912d5a772098"
      },
      "execution_count": 26,
      "outputs": [
        {
          "output_type": "stream",
          "name": "stdout",
          "text": [
            "Hi my name is \tAvinash\n"
          ]
        }
      ]
    },
    {
      "cell_type": "markdown",
      "source": [
        "Q print a'b in "
      ],
      "metadata": {
        "id": "2sczphVKouQq"
      }
    },
    {
      "cell_type": "code",
      "source": [
        "print(\"a'b\")  # using double quotation \n",
        "print('a'b')  # using single quotation "
      ],
      "metadata": {
        "colab": {
          "base_uri": "https://localhost:8080/",
          "height": 130
        },
        "id": "r20SOZdjoi8D",
        "outputId": "cf8c794d-6842-44fc-868c-e762753d987e"
      },
      "execution_count": 14,
      "outputs": [
        {
          "output_type": "error",
          "ename": "SyntaxError",
          "evalue": "ignored",
          "traceback": [
            "\u001b[0;36m  File \u001b[0;32m\"<ipython-input-14-5512c5bf3cae>\"\u001b[0;36m, line \u001b[0;32m2\u001b[0m\n\u001b[0;31m    print('a'b')  # using single quotation\u001b[0m\n\u001b[0m                                           ^\u001b[0m\n\u001b[0;31mSyntaxError\u001b[0m\u001b[0;31m:\u001b[0m EOL while scanning string literal\n"
          ]
        }
      ]
    },
    {
      "cell_type": "code",
      "source": [
        "print('a\\'b') # using escape character  \\ "
      ],
      "metadata": {
        "colab": {
          "base_uri": "https://localhost:8080/"
        },
        "id": "jMStMd8Go0vq",
        "outputId": "c6d08ad4-84db-4ec9-c45a-e2770e55adb2"
      },
      "execution_count": 15,
      "outputs": [
        {
          "output_type": "stream",
          "name": "stdout",
          "text": [
            "a'b\n"
          ]
        }
      ]
    },
    {
      "cell_type": "code",
      "source": [
        "s= \"ABCD\""
      ],
      "metadata": {
        "colab": {
          "base_uri": "https://localhost:8080/",
          "height": 35
        },
        "id": "ePcN5k0apSfS",
        "outputId": "2211bab2-c773-496a-f988-226a38250331"
      },
      "execution_count": 17,
      "outputs": [
        {
          "output_type": "execute_result",
          "data": {
            "text/plain": [
              "'ABCD'"
            ],
            "application/vnd.google.colaboratory.intrinsic+json": {
              "type": "string"
            }
          },
          "metadata": {},
          "execution_count": 17
        }
      ]
    },
    {
      "cell_type": "markdown",
      "source": [
        "![image.png](data:image/png;base64,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)"
      ],
      "metadata": {
        "id": "dyfzM2YusLi5"
      }
    },
    {
      "cell_type": "code",
      "source": [
        "# Positive Indexing starts from right hand side to left hand side \n",
        "s[0]"
      ],
      "metadata": {
        "colab": {
          "base_uri": "https://localhost:8080/",
          "height": 35
        },
        "id": "kYe2ECDVqCY7",
        "outputId": "c2dd0fb0-2f2d-446f-d771-792f29f75028"
      },
      "execution_count": 27,
      "outputs": [
        {
          "output_type": "execute_result",
          "data": {
            "text/plain": [
              "'A'"
            ],
            "application/vnd.google.colaboratory.intrinsic+json": {
              "type": "string"
            }
          },
          "metadata": {},
          "execution_count": 27
        }
      ]
    },
    {
      "cell_type": "code",
      "source": [
        "s[1]"
      ],
      "metadata": {
        "colab": {
          "base_uri": "https://localhost:8080/",
          "height": 35
        },
        "id": "FOBjoC9MqHNy",
        "outputId": "cceaaf5b-bdb0-4ca2-e9b5-cf85e55bdb92"
      },
      "execution_count": 19,
      "outputs": [
        {
          "output_type": "execute_result",
          "data": {
            "text/plain": [
              "'B'"
            ],
            "application/vnd.google.colaboratory.intrinsic+json": {
              "type": "string"
            }
          },
          "metadata": {},
          "execution_count": 19
        }
      ]
    },
    {
      "cell_type": "code",
      "source": [
        "s[2]"
      ],
      "metadata": {
        "colab": {
          "base_uri": "https://localhost:8080/",
          "height": 35
        },
        "id": "JcG7SdrkqI-b",
        "outputId": "817ce011-05bc-4ced-f569-5622bace4fe1"
      },
      "execution_count": 20,
      "outputs": [
        {
          "output_type": "execute_result",
          "data": {
            "text/plain": [
              "'C'"
            ],
            "application/vnd.google.colaboratory.intrinsic+json": {
              "type": "string"
            }
          },
          "metadata": {},
          "execution_count": 20
        }
      ]
    },
    {
      "cell_type": "code",
      "source": [
        "s[3]"
      ],
      "metadata": {
        "colab": {
          "base_uri": "https://localhost:8080/",
          "height": 35
        },
        "id": "KyBed0FSqKY7",
        "outputId": "973a4639-26e1-449f-c680-7a577f4c89bc"
      },
      "execution_count": 21,
      "outputs": [
        {
          "output_type": "execute_result",
          "data": {
            "text/plain": [
              "'D'"
            ],
            "application/vnd.google.colaboratory.intrinsic+json": {
              "type": "string"
            }
          },
          "metadata": {},
          "execution_count": 21
        }
      ]
    },
    {
      "cell_type": "code",
      "source": [
        "# Negative Indexing starts from left hand side to right hand side \n",
        "s[-1]"
      ],
      "metadata": {
        "colab": {
          "base_uri": "https://localhost:8080/",
          "height": 35
        },
        "id": "MvpI5j_wqLdC",
        "outputId": "6a3c9ce7-eb47-433e-c062-cd4878f9f1d5"
      },
      "execution_count": 28,
      "outputs": [
        {
          "output_type": "execute_result",
          "data": {
            "text/plain": [
              "'D'"
            ],
            "application/vnd.google.colaboratory.intrinsic+json": {
              "type": "string"
            }
          },
          "metadata": {},
          "execution_count": 28
        }
      ]
    },
    {
      "cell_type": "code",
      "source": [
        "s[-2]"
      ],
      "metadata": {
        "colab": {
          "base_uri": "https://localhost:8080/",
          "height": 35
        },
        "id": "wxsktr2ZqWfC",
        "outputId": "8dd88d8f-8d48-49b9-b0b7-7367a0b5a27e"
      },
      "execution_count": 23,
      "outputs": [
        {
          "output_type": "execute_result",
          "data": {
            "text/plain": [
              "'C'"
            ],
            "application/vnd.google.colaboratory.intrinsic+json": {
              "type": "string"
            }
          },
          "metadata": {},
          "execution_count": 23
        }
      ]
    },
    {
      "cell_type": "code",
      "source": [
        "s[-3]"
      ],
      "metadata": {
        "colab": {
          "base_uri": "https://localhost:8080/",
          "height": 35
        },
        "id": "qK34PR5GqYJi",
        "outputId": "2e462b3e-1c38-4af1-d70e-536b3ebaa636"
      },
      "execution_count": 24,
      "outputs": [
        {
          "output_type": "execute_result",
          "data": {
            "text/plain": [
              "'B'"
            ],
            "application/vnd.google.colaboratory.intrinsic+json": {
              "type": "string"
            }
          },
          "metadata": {},
          "execution_count": 24
        }
      ]
    },
    {
      "cell_type": "code",
      "source": [
        "s[-4]"
      ],
      "metadata": {
        "colab": {
          "base_uri": "https://localhost:8080/",
          "height": 35
        },
        "id": "BNt_BuwZqZSz",
        "outputId": "3f333a61-26c3-4507-abc6-8b92369de604"
      },
      "execution_count": 25,
      "outputs": [
        {
          "output_type": "execute_result",
          "data": {
            "text/plain": [
              "'A'"
            ],
            "application/vnd.google.colaboratory.intrinsic+json": {
              "type": "string"
            }
          },
          "metadata": {},
          "execution_count": 25
        }
      ]
    },
    {
      "cell_type": "markdown",
      "source": [
        "* String Slicing \n",
        "* s[start value , ending value , step size]"
      ],
      "metadata": {
        "id": "w7rprN1Aq_XS"
      }
    },
    {
      "cell_type": "code",
      "source": [
        "s[0:2:1]  # Display in result = ending value - 1 "
      ],
      "metadata": {
        "colab": {
          "base_uri": "https://localhost:8080/",
          "height": 35
        },
        "id": "IwieyvmrqaNj",
        "outputId": "df0683aa-54dc-4530-bc72-7f202df31544"
      },
      "execution_count": 42,
      "outputs": [
        {
          "output_type": "execute_result",
          "data": {
            "text/plain": [
              "'AB'"
            ],
            "application/vnd.google.colaboratory.intrinsic+json": {
              "type": "string"
            }
          },
          "metadata": {},
          "execution_count": 42
        }
      ]
    },
    {
      "cell_type": "code",
      "source": [
        "s[0:3:1]  # Display in result = ending value - 1 "
      ],
      "metadata": {
        "colab": {
          "base_uri": "https://localhost:8080/",
          "height": 35
        },
        "id": "viSy2Yi_tLMN",
        "outputId": "b902d240-5647-4fe4-b411-336d496dd926"
      },
      "execution_count": 43,
      "outputs": [
        {
          "output_type": "execute_result",
          "data": {
            "text/plain": [
              "'ABC'"
            ],
            "application/vnd.google.colaboratory.intrinsic+json": {
              "type": "string"
            }
          },
          "metadata": {},
          "execution_count": 43
        }
      ]
    },
    {
      "cell_type": "code",
      "source": [
        "s[0:1:1]  # Display in result = ending value - 1 "
      ],
      "metadata": {
        "colab": {
          "base_uri": "https://localhost:8080/",
          "height": 35
        },
        "id": "9Mx1ZVbstuB2",
        "outputId": "c60dc82a-4a6d-4563-c7da-703ee6024b70"
      },
      "execution_count": 44,
      "outputs": [
        {
          "output_type": "execute_result",
          "data": {
            "text/plain": [
              "'A'"
            ],
            "application/vnd.google.colaboratory.intrinsic+json": {
              "type": "string"
            }
          },
          "metadata": {},
          "execution_count": 44
        }
      ]
    },
    {
      "cell_type": "code",
      "source": [
        "s[0:4:1]  # Display in result = ending value - 1 "
      ],
      "metadata": {
        "colab": {
          "base_uri": "https://localhost:8080/",
          "height": 35
        },
        "id": "ZOVb_0rEtw5G",
        "outputId": "dd601d2b-51ca-4436-acab-7f2c002482ac"
      },
      "execution_count": 45,
      "outputs": [
        {
          "output_type": "execute_result",
          "data": {
            "text/plain": [
              "'ABCD'"
            ],
            "application/vnd.google.colaboratory.intrinsic+json": {
              "type": "string"
            }
          },
          "metadata": {},
          "execution_count": 45
        }
      ]
    },
    {
      "cell_type": "code",
      "source": [
        "s[0:4:2]  # Display in result = ending value - 1 "
      ],
      "metadata": {
        "colab": {
          "base_uri": "https://localhost:8080/",
          "height": 35
        },
        "id": "W63pE386tymG",
        "outputId": "2ad2a2fe-8336-4862-b8b4-94266ebb32fa"
      },
      "execution_count": 47,
      "outputs": [
        {
          "output_type": "execute_result",
          "data": {
            "text/plain": [
              "'AC'"
            ],
            "application/vnd.google.colaboratory.intrinsic+json": {
              "type": "string"
            }
          },
          "metadata": {},
          "execution_count": 47
        }
      ]
    },
    {
      "cell_type": "code",
      "source": [
        "s[:] # default starting value and ending value"
      ],
      "metadata": {
        "colab": {
          "base_uri": "https://localhost:8080/",
          "height": 35
        },
        "id": "rHhGi54ct2Gt",
        "outputId": "5d7f007a-1b18-4db2-a6f7-55afc17e631a"
      },
      "execution_count": 49,
      "outputs": [
        {
          "output_type": "execute_result",
          "data": {
            "text/plain": [
              "'ABCD'"
            ],
            "application/vnd.google.colaboratory.intrinsic+json": {
              "type": "string"
            }
          },
          "metadata": {},
          "execution_count": 49
        }
      ]
    },
    {
      "cell_type": "code",
      "source": [
        "s[2:] # starting value is 2"
      ],
      "metadata": {
        "colab": {
          "base_uri": "https://localhost:8080/",
          "height": 35
        },
        "id": "BL3H9iuauUIL",
        "outputId": "53dd5ff5-b809-4172-d956-4dfcbc1266bd"
      },
      "execution_count": 50,
      "outputs": [
        {
          "output_type": "execute_result",
          "data": {
            "text/plain": [
              "'CD'"
            ],
            "application/vnd.google.colaboratory.intrinsic+json": {
              "type": "string"
            }
          },
          "metadata": {},
          "execution_count": 50
        }
      ]
    },
    {
      "cell_type": "code",
      "source": [
        "s[:3] # ending value -1"
      ],
      "metadata": {
        "colab": {
          "base_uri": "https://localhost:8080/",
          "height": 35
        },
        "id": "RCYR4GeGucu7",
        "outputId": "8e59817f-a6b5-4baf-e5a1-df3ecc7b9cfa"
      },
      "execution_count": 53,
      "outputs": [
        {
          "output_type": "execute_result",
          "data": {
            "text/plain": [
              "'ABC'"
            ],
            "application/vnd.google.colaboratory.intrinsic+json": {
              "type": "string"
            }
          },
          "metadata": {},
          "execution_count": 53
        }
      ]
    },
    {
      "cell_type": "code",
      "source": [
        "s[1::1] # starting value = 1: ending value = default , step size = 1"
      ],
      "metadata": {
        "colab": {
          "base_uri": "https://localhost:8080/",
          "height": 35
        },
        "id": "xT1nR6n8xE_0",
        "outputId": "e74728a1-8741-41ee-fa0b-1c695fa812d4"
      },
      "execution_count": 65,
      "outputs": [
        {
          "output_type": "execute_result",
          "data": {
            "text/plain": [
              "'BCD'"
            ],
            "application/vnd.google.colaboratory.intrinsic+json": {
              "type": "string"
            }
          },
          "metadata": {},
          "execution_count": 65
        }
      ]
    },
    {
      "cell_type": "code",
      "source": [
        "# Reverse String \n",
        "s[::-1]  # only change direction we get reverse string "
      ],
      "metadata": {
        "colab": {
          "base_uri": "https://localhost:8080/",
          "height": 35
        },
        "id": "GYFuMraaujZU",
        "outputId": "9eb6d610-5a9e-44cf-da8a-b4123ab6224c"
      },
      "execution_count": 55,
      "outputs": [
        {
          "output_type": "execute_result",
          "data": {
            "text/plain": [
              "'DCBA'"
            ],
            "application/vnd.google.colaboratory.intrinsic+json": {
              "type": "string"
            }
          },
          "metadata": {},
          "execution_count": 55
        }
      ]
    },
    {
      "cell_type": "code",
      "source": [
        "# Negative Indexing \n",
        "s[-1:-5:-1] # ending value -1  "
      ],
      "metadata": {
        "colab": {
          "base_uri": "https://localhost:8080/",
          "height": 35
        },
        "id": "aUP_FSxguv6i",
        "outputId": "2bbc0862-5ffe-4e63-de77-e0907475fa8f"
      },
      "execution_count": 59,
      "outputs": [
        {
          "output_type": "execute_result",
          "data": {
            "text/plain": [
              "'DCBA'"
            ],
            "application/vnd.google.colaboratory.intrinsic+json": {
              "type": "string"
            }
          },
          "metadata": {},
          "execution_count": 59
        }
      ]
    },
    {
      "cell_type": "code",
      "source": [
        "# Negative Indexing \n",
        "s[-1:-4:-1] # ending value -1  "
      ],
      "metadata": {
        "colab": {
          "base_uri": "https://localhost:8080/",
          "height": 35
        },
        "id": "m_mEVTF2vAJ1",
        "outputId": "b0f3aeea-4527-402e-98c0-b89a572b90ce"
      },
      "execution_count": 60,
      "outputs": [
        {
          "output_type": "execute_result",
          "data": {
            "text/plain": [
              "'DCB'"
            ],
            "application/vnd.google.colaboratory.intrinsic+json": {
              "type": "string"
            }
          },
          "metadata": {},
          "execution_count": 60
        }
      ]
    },
    {
      "cell_type": "code",
      "source": [
        "# Negative Indexing \n",
        "s[-1:-3:-1] # ending value -1  "
      ],
      "metadata": {
        "colab": {
          "base_uri": "https://localhost:8080/",
          "height": 35
        },
        "id": "KTdr8cA9vvMa",
        "outputId": "cc78cedd-762a-4868-e8cf-a576f727b258"
      },
      "execution_count": 61,
      "outputs": [
        {
          "output_type": "execute_result",
          "data": {
            "text/plain": [
              "'DC'"
            ],
            "application/vnd.google.colaboratory.intrinsic+json": {
              "type": "string"
            }
          },
          "metadata": {},
          "execution_count": 61
        }
      ]
    },
    {
      "cell_type": "code",
      "source": [
        "# Negative Indexing \n",
        "s[-1:-2:-1] # ending value -1  "
      ],
      "metadata": {
        "colab": {
          "base_uri": "https://localhost:8080/",
          "height": 35
        },
        "id": "fF9YSfRavwN6",
        "outputId": "b4e2cb7c-8580-4085-9992-a3b4fe9dfb10"
      },
      "execution_count": 62,
      "outputs": [
        {
          "output_type": "execute_result",
          "data": {
            "text/plain": [
              "'D'"
            ],
            "application/vnd.google.colaboratory.intrinsic+json": {
              "type": "string"
            }
          },
          "metadata": {},
          "execution_count": 62
        }
      ]
    },
    {
      "cell_type": "code",
      "source": [
        "s[3]='Z' # strings are immutable we can not change string "
      ],
      "metadata": {
        "colab": {
          "base_uri": "https://localhost:8080/",
          "height": 165
        },
        "id": "HF3-B1K10TUl",
        "outputId": "fb7fd31b-6fde-4894-9e6f-be7d66857a9c"
      },
      "execution_count": 86,
      "outputs": [
        {
          "output_type": "error",
          "ename": "TypeError",
          "evalue": "ignored",
          "traceback": [
            "\u001b[0;31m---------------------------------------------------------------------------\u001b[0m",
            "\u001b[0;31mTypeError\u001b[0m                                 Traceback (most recent call last)",
            "\u001b[0;32m<ipython-input-86-df08e414ac04>\u001b[0m in \u001b[0;36m<cell line: 1>\u001b[0;34m()\u001b[0m\n\u001b[0;32m----> 1\u001b[0;31m \u001b[0ms\u001b[0m\u001b[0;34m[\u001b[0m\u001b[0;36m3\u001b[0m\u001b[0;34m]\u001b[0m\u001b[0;34m=\u001b[0m\u001b[0;34m'Z'\u001b[0m \u001b[0;31m# strings are immutable we can not change string\u001b[0m\u001b[0;34m\u001b[0m\u001b[0;34m\u001b[0m\u001b[0m\n\u001b[0m",
            "\u001b[0;31mTypeError\u001b[0m: 'str' object does not support item assignment"
          ]
        }
      ]
    },
    {
      "cell_type": "code",
      "source": [
        "my_string = \"Welcome to NIELIT Daman\"\n",
        "my_string"
      ],
      "metadata": {
        "colab": {
          "base_uri": "https://localhost:8080/",
          "height": 35
        },
        "id": "NXCPrhnowxrL",
        "outputId": "1423a88b-96ce-49db-a0ae-c62d7982b2a9"
      },
      "execution_count": 67,
      "outputs": [
        {
          "output_type": "execute_result",
          "data": {
            "text/plain": [
              "'Welcome to NIELIT Daman'"
            ],
            "application/vnd.google.colaboratory.intrinsic+json": {
              "type": "string"
            }
          },
          "metadata": {},
          "execution_count": 67
        }
      ]
    },
    {
      "cell_type": "code",
      "source": [
        "s"
      ],
      "metadata": {
        "colab": {
          "base_uri": "https://localhost:8080/",
          "height": 35
        },
        "id": "q_1ew2mE0gc-",
        "outputId": "444f6c6d-795d-4aa2-f208-63b1b70ae00f"
      },
      "execution_count": 70,
      "outputs": [
        {
          "output_type": "execute_result",
          "data": {
            "text/plain": [
              "'ABCD'"
            ],
            "application/vnd.google.colaboratory.intrinsic+json": {
              "type": "string"
            }
          },
          "metadata": {},
          "execution_count": 70
        }
      ]
    },
    {
      "cell_type": "code",
      "source": [
        "# Concatenate two string together\n",
        "print(my_string + s)\n"
      ],
      "metadata": {
        "colab": {
          "base_uri": "https://localhost:8080/"
        },
        "id": "2BGx0HMq0hBN",
        "outputId": "7a0debca-57f6-42f3-f14d-34fea4d11484"
      },
      "execution_count": 82,
      "outputs": [
        {
          "output_type": "stream",
          "name": "stdout",
          "text": [
            "Welcome to NIELIT DamanABCD\n"
          ]
        }
      ]
    },
    {
      "cell_type": "code",
      "source": [
        "# Concatenate two string together\n",
        "print(my_string +  \" \" + s)"
      ],
      "metadata": {
        "colab": {
          "base_uri": "https://localhost:8080/"
        },
        "id": "fhJKPHRi0paF",
        "outputId": "05f588a6-f7e6-4090-b2ee-4361abccd83f"
      },
      "execution_count": 83,
      "outputs": [
        {
          "output_type": "stream",
          "name": "stdout",
          "text": [
            "Welcome to NIELIT Daman ABCD\n"
          ]
        }
      ]
    },
    {
      "cell_type": "code",
      "source": [
        "print(my_string * 2)"
      ],
      "metadata": {
        "colab": {
          "base_uri": "https://localhost:8080/"
        },
        "id": "-y1pKXBf06GU",
        "outputId": "ed80e0bc-e45b-43c7-cea6-375e0e681f7e"
      },
      "execution_count": 84,
      "outputs": [
        {
          "output_type": "stream",
          "name": "stdout",
          "text": [
            "Welcome to NIELIT DamanWelcome to NIELIT Daman\n"
          ]
        }
      ]
    },
    {
      "cell_type": "code",
      "source": [
        "print(s * 2)"
      ],
      "metadata": {
        "colab": {
          "base_uri": "https://localhost:8080/"
        },
        "id": "JF7p0yVL0x_L",
        "outputId": "a329840d-702b-4a19-af6f-a12cc7d17536"
      },
      "execution_count": 85,
      "outputs": [
        {
          "output_type": "stream",
          "name": "stdout",
          "text": [
            "ABCDABCD\n"
          ]
        }
      ]
    },
    {
      "cell_type": "markdown",
      "source": [
        "## String Type Casting \n",
        "1. string to int \n",
        "2. int to string "
      ],
      "metadata": {
        "id": "Jab6sYQF1cSc"
      }
    },
    {
      "cell_type": "code",
      "source": [
        "a=4\n",
        "type(a)"
      ],
      "metadata": {
        "colab": {
          "base_uri": "https://localhost:8080/"
        },
        "id": "AxZXVCvI1CEl",
        "outputId": "6d2cff5d-6d8d-4a75-d29a-becb5de6c602"
      },
      "execution_count": 90,
      "outputs": [
        {
          "output_type": "execute_result",
          "data": {
            "text/plain": [
              "int"
            ]
          },
          "metadata": {},
          "execution_count": 90
        }
      ]
    },
    {
      "cell_type": "code",
      "source": [
        "a='4'\n",
        "type(a)"
      ],
      "metadata": {
        "colab": {
          "base_uri": "https://localhost:8080/"
        },
        "id": "rCxdB_I9NJ9A",
        "outputId": "6e47d568-111d-49be-b962-602bcb16879b"
      },
      "execution_count": 92,
      "outputs": [
        {
          "output_type": "execute_result",
          "data": {
            "text/plain": [
              "str"
            ]
          },
          "metadata": {},
          "execution_count": 92
        }
      ]
    },
    {
      "cell_type": "markdown",
      "source": [
        "## String Methods "
      ],
      "metadata": {
        "id": "d5ZDNYrzNYAi"
      }
    },
    {
      "cell_type": "code",
      "source": [
        "my_string"
      ],
      "metadata": {
        "colab": {
          "base_uri": "https://localhost:8080/",
          "height": 35
        },
        "id": "sApOdI_hNTo3",
        "outputId": "54151406-fd8a-4b53-976c-35d36ee0c018"
      },
      "execution_count": 94,
      "outputs": [
        {
          "output_type": "execute_result",
          "data": {
            "text/plain": [
              "'Welcome to NIELIT Daman'"
            ],
            "application/vnd.google.colaboratory.intrinsic+json": {
              "type": "string"
            }
          },
          "metadata": {},
          "execution_count": 94
        }
      ]
    },
    {
      "cell_type": "markdown",
      "source": [
        "## Converts the first character to upper case"
      ],
      "metadata": {
        "id": "9eJgzck1N2ug"
      }
    },
    {
      "cell_type": "code",
      "source": [
        "my_string.capitalize()"
      ],
      "metadata": {
        "colab": {
          "base_uri": "https://localhost:8080/",
          "height": 35
        },
        "id": "bTYZH_DcNyHg",
        "outputId": "3ea692e3-2e96-4054-f78f-843ba205d34a"
      },
      "execution_count": 99,
      "outputs": [
        {
          "output_type": "execute_result",
          "data": {
            "text/plain": [
              "'Welcome to nielit daman'"
            ],
            "application/vnd.google.colaboratory.intrinsic+json": {
              "type": "string"
            }
          },
          "metadata": {},
          "execution_count": 99
        }
      ]
    },
    {
      "cell_type": "markdown",
      "source": [
        "## Converts string into Upper Case"
      ],
      "metadata": {
        "id": "l32xN9COOS8b"
      }
    },
    {
      "cell_type": "code",
      "source": [
        "my_string.upper()"
      ],
      "metadata": {
        "colab": {
          "base_uri": "https://localhost:8080/",
          "height": 35
        },
        "id": "8Op04HfvN7Fg",
        "outputId": "2a598269-1cda-475d-9278-2bb57ea050e4"
      },
      "execution_count": 100,
      "outputs": [
        {
          "output_type": "execute_result",
          "data": {
            "text/plain": [
              "'WELCOME TO NIELIT DAMAN'"
            ],
            "application/vnd.google.colaboratory.intrinsic+json": {
              "type": "string"
            }
          },
          "metadata": {},
          "execution_count": 100
        }
      ]
    },
    {
      "cell_type": "markdown",
      "source": [
        "### Converts string into lower case"
      ],
      "metadata": {
        "id": "WrBz485fQGkw"
      }
    },
    {
      "cell_type": "code",
      "source": [
        "my_string.lower()"
      ],
      "metadata": {
        "colab": {
          "base_uri": "https://localhost:8080/",
          "height": 35
        },
        "id": "dtPyc7mlQCL9",
        "outputId": "724ed9dd-5ff7-486d-f6a2-b66930afaff2"
      },
      "execution_count": 101,
      "outputs": [
        {
          "output_type": "execute_result",
          "data": {
            "text/plain": [
              "'welcome to nielit daman'"
            ],
            "application/vnd.google.colaboratory.intrinsic+json": {
              "type": "string"
            }
          },
          "metadata": {},
          "execution_count": 101
        }
      ]
    },
    {
      "cell_type": "code",
      "source": [
        "my_string.casefold()"
      ],
      "metadata": {
        "colab": {
          "base_uri": "https://localhost:8080/",
          "height": 35
        },
        "id": "E3ou_VbsQLvJ",
        "outputId": "a90fe6f6-95b9-4471-9d9d-c2c786018fc4"
      },
      "execution_count": 103,
      "outputs": [
        {
          "output_type": "execute_result",
          "data": {
            "text/plain": [
              "'welcome to nielit daman'"
            ],
            "application/vnd.google.colaboratory.intrinsic+json": {
              "type": "string"
            }
          },
          "metadata": {},
          "execution_count": 103
        }
      ]
    },
    {
      "cell_type": "code",
      "source": [
        "my_string1=\"Daman Daman \"\n",
        "my_string1.count('Daman')"
      ],
      "metadata": {
        "colab": {
          "base_uri": "https://localhost:8080/"
        },
        "id": "0qbBcjxOQPSZ",
        "outputId": "d1846aff-cb03-4951-d8c2-9a9f3f6dfa74"
      },
      "execution_count": 114,
      "outputs": [
        {
          "output_type": "execute_result",
          "data": {
            "text/plain": [
              "2"
            ]
          },
          "metadata": {},
          "execution_count": 114
        }
      ]
    },
    {
      "cell_type": "code",
      "source": [
        "my_string.find('daman')"
      ],
      "metadata": {
        "colab": {
          "base_uri": "https://localhost:8080/"
        },
        "id": "bqAtMYgFQV-x",
        "outputId": "5daac2ec-01e9-42e9-e3de-26764323c8f4"
      },
      "execution_count": 112,
      "outputs": [
        {
          "output_type": "execute_result",
          "data": {
            "text/plain": [
              "-1"
            ]
          },
          "metadata": {},
          "execution_count": 112
        }
      ]
    },
    {
      "cell_type": "code",
      "source": [
        "my_string1.replace('Daman','Nielit')"
      ],
      "metadata": {
        "colab": {
          "base_uri": "https://localhost:8080/",
          "height": 35
        },
        "id": "QcgyPVZVRJhZ",
        "outputId": "7defeec0-555b-4247-f7fc-eeaab6b6b645"
      },
      "execution_count": 115,
      "outputs": [
        {
          "output_type": "execute_result",
          "data": {
            "text/plain": [
              "'Nielit Nielit '"
            ],
            "application/vnd.google.colaboratory.intrinsic+json": {
              "type": "string"
            }
          },
          "metadata": {},
          "execution_count": 115
        }
      ]
    },
    {
      "cell_type": "markdown",
      "source": [
        "## Output Formating "
      ],
      "metadata": {
        "id": "IOdr1UdXjeib"
      }
    },
    {
      "cell_type": "code",
      "source": [
        "name=\"Avinash\"\n",
        "city=\"Daman\"\n",
        "print(\"Hi myself\",name,\"Welcome to Nielit\",city)"
      ],
      "metadata": {
        "colab": {
          "base_uri": "https://localhost:8080/"
        },
        "id": "NN8wZwAdRQMB",
        "outputId": "de8432c5-3672-4d20-94be-ffc14146840b"
      },
      "execution_count": 121,
      "outputs": [
        {
          "output_type": "stream",
          "name": "stdout",
          "text": [
            "Hi myself Avinash Welcome to Nielit Daman\n"
          ]
        }
      ]
    },
    {
      "cell_type": "code",
      "source": [
        "print(f\"Hi myself {name} welcome to nielit {city}\")"
      ],
      "metadata": {
        "colab": {
          "base_uri": "https://localhost:8080/"
        },
        "id": "n6aD_yljjsNE",
        "outputId": "db082f22-91cf-4676-9369-77c4bc0e85a9"
      },
      "execution_count": 123,
      "outputs": [
        {
          "output_type": "stream",
          "name": "stdout",
          "text": [
            "Hi myself Avinash welcome to nielit Daman\n"
          ]
        }
      ]
    },
    {
      "cell_type": "code",
      "source": [],
      "metadata": {
        "id": "OzcH_jLbkhm0"
      },
      "execution_count": null,
      "outputs": []
    }
  ]
}